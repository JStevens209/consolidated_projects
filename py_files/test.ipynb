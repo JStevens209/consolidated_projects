{
 "metadata": {
  "language_info": {
   "codemirror_mode": {
    "name": "ipython",
    "version": 3
   },
   "file_extension": ".py",
   "mimetype": "text/x-python",
   "name": "python",
   "nbconvert_exporter": "python",
   "pygments_lexer": "ipython3",
   "version": "3.8.3-final"
  },
  "orig_nbformat": 2,
  "kernelspec": {
   "name": "Python 3.8.3 64-bit ('py3': conda)",
   "display_name": "Python 3.8.3 64-bit ('py3': conda)",
   "metadata": {
    "interpreter": {
     "hash": "9fe976111b849f55d98144b3f8dc64fed918fa1b056d08cbb3cd03cf8c30774e"
    }
   }
  }
 },
 "nbformat": 4,
 "nbformat_minor": 2,
 "cells": [
  {
   "cell_type": "code",
   "execution_count": 3,
   "metadata": {},
   "outputs": [],
   "source": [
    "fin = open(\"./output.txt\", \"r\" )\n",
    "fout = open( \"./sorted_output.txt\", \"w\" )\n",
    "\n",
    "input = fin.read()\n",
    "input = sorted( set( input.split() ), key= len )\n",
    "\n",
    "for word in input:\n",
    "    fout.write( word + '\\n' )"
   ]
  },
  {
   "cell_type": "code",
   "execution_count": null,
   "metadata": {},
   "outputs": [],
   "source": []
  }
 ]
}