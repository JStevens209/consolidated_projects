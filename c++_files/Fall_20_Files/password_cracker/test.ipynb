{
 "metadata": {
  "language_info": {
   "codemirror_mode": {
    "name": "ipython",
    "version": 3
   },
   "file_extension": ".py",
   "mimetype": "text/x-python",
   "name": "python",
   "nbconvert_exporter": "python",
   "pygments_lexer": "ipython3",
   "version": "3.8.3-final"
  },
  "orig_nbformat": 2,
  "kernelspec": {
   "name": "Python 3.8.3 64-bit ('py3': conda)",
   "display_name": "Python 3.8.3 64-bit ('py3': conda)",
   "metadata": {
    "interpreter": {
     "hash": "9fe976111b849f55d98144b3f8dc64fed918fa1b056d08cbb3cd03cf8c30774e"
    }
   }
  }
 },
 "nbformat": 4,
 "nbformat_minor": 2,
 "cells": [
  {
   "cell_type": "code",
   "execution_count": 2,
   "metadata": {},
   "outputs": [],
   "source": [
    "import pandas as pd\n",
    "import numpy as np\n",
    "import hashlib as hsh"
   ]
  },
  {
   "cell_type": "code",
   "execution_count": 3,
   "metadata": {},
   "outputs": [],
   "source": [
    "hashes = pd.read_csv( \"./PA4-Hashes.txt\", sep= ':' , names= [ 'name', 'salt', 'hash' ])\n",
    "wordlist = pd.read_csv( \"./wordlists/capitalized_wordlist.txt\", sep= '\\n', names= [ 'words' ] )\n",
    "hashedDataset = pd.read_csv( \"./wordlists/salted_capitalized_hashlist.txt\", sep= '\\n', names= [ 'hashes' ] )"
   ]
  },
  {
   "cell_type": "code",
   "execution_count": 5,
   "metadata": {},
   "outputs": [],
   "source": [
    "plaintextWords = wordlist[ 'words' ]\n",
    "names = hashes['name']\n",
    "salts = hashes['salt']\n",
    "unbrokenHashes = hashes['hash']\n",
    "\n",
    "hashList = hashedDataset[ 'hashes' ]\n",
    "\n",
    "for i in range( len( unbrokenHashes )):\n",
    "    doesExist = hashList.where( hashList == unbrokenHashes[i] ).isnull()\n",
    "\n",
    "    for j in range( len( doesExist ) ):\n",
    "       if not doesExist[j]:\n",
    "           print( str(j) + \" : \" + plaintextWords[j] + \" : \" + hashList[j] )\n",
    "\n"
   ]
  },
  {
   "cell_type": "code",
   "execution_count": 5,
   "metadata": {},
   "outputs": [],
   "source": [
    "wordlist = wordlist.drop_duplicates()\n",
    "wordlist.to_csv( \"./wordlists/output.txt\", sep= '\\n', index= False, header= False )"
   ]
  },
  {
   "cell_type": "code",
   "execution_count": null,
   "metadata": {},
   "outputs": [],
   "source": []
  }
 ]
}