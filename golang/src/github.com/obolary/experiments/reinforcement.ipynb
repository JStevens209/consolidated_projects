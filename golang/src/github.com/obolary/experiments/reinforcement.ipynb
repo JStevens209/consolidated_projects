{
 "cells": [
  {
   "cell_type": "code",
   "execution_count": null,
   "metadata": {},
   "outputs": [],
   "source": [
    "import time\n",
    "import random\n",
    "import itertools\n",
    "\n",
    "import numpy as np\n",
    "import gym\n",
    "\n",
    "import tensorflow as tf\n",
    "import tensorflow.keras.layers as kl\n"
   ]
  },
  {
   "cell_type": "code",
   "execution_count": null,
   "metadata": {},
   "outputs": [],
   "source": [
    "class RandomModel():\n",
    "\n",
    "    def __init__( self, env ):\n",
    "\n",
    "        self.env = env\n",
    "\n",
    "    def action( self, observation ):\n",
    "\n",
    "        return self.env.action_space.sample()\n"
   ]
  },
  {
   "cell_type": "code",
   "execution_count": null,
   "metadata": {},
   "outputs": [],
   "source": [
    "class DeterministicModel():\n",
    "\n",
    "    def __init__( self, env ):\n",
    "\n",
    "        self.env = env\n",
    "\n",
    "    def action( self, observation ):\n",
    "\n",
    "        # default to left\n",
    "        action = 0\n",
    "\n",
    "        # if angle is over zero degrees (right) move right\n",
    "        if observation[ 2 ] > 0:\n",
    "            action = 1\n",
    "\n",
    "        return action\n"
   ]
  },
  {
   "cell_type": "code",
   "execution_count": null,
   "metadata": {
    "tags": []
   },
   "outputs": [],
   "source": [
    "\n",
    "env = gym.make( \"CartPole-v1\" )\n",
    "\n",
    "model = RandomModel( env )\n",
    "#model = DeterministicModel( env )\n",
    "\n",
    "best_q = 0\n",
    "batches = 10\n",
    "render = False\n",
    "observation = env.reset()\n",
    "for i in range(batches):\n",
    "\n",
    "    q = 0\n",
    "    for _ in range(100):\n",
    "\n",
    "        action = model.action( observation ) \n",
    "        observation, reward, done, info = env.step( action )\n",
    "        \n",
    "        q = q + reward\n",
    "\n",
    "        if render:\n",
    "            env.render()\n",
    "            time.sleep( 0.1 )\n",
    "\n",
    "        if done:\n",
    "            break\n",
    "\n",
    "    if q > best_q:\n",
    "        best_q = q\n",
    "\n",
    "    observation = env.reset()\n",
    "\n",
    "print( f'** BEST Q, {best_q}' )\n",
    "\n",
    "env.close()\n"
   ]
  },
  {
   "cell_type": "code",
   "execution_count": null,
   "metadata": {},
   "outputs": [],
   "source": [
    "class MachineLearningModel( tf.keras.Model ):\n",
    "\n",
    "    def __init__( self, env ):\n",
    "    \n",
    "        super( MachineLearningModel, self ).__init__()\n",
    "\n",
    "        self.env = env\n",
    "\n",
    "        self.layer_input = kl.InputLayer( input_shape = ( 1,4 ), name='input' )\n",
    "        self.layer_mask = kl.Masking( mask_value = 0.0, name='mask' )\n",
    "        self.layer_in = kl.Dense( 128, activation='relu', name='in' )\n",
    "        self.layer_hidden1 = kl.Dense( 64, activation='relu', name='hidden1' )\n",
    "        self.layer_hidden2 = kl.Dense( 32, activation='relu', name='hidden2' )\n",
    "        self.layer_logit = kl.Dense( 2, activation='softmax', name='logit' )\n",
    "\n",
    "    def call( self, x ):\n",
    "\n",
    "        y = self.layer_input( x )\n",
    "        y = self.layer_mask( y )\n",
    "        y = self.layer_in( y )\n",
    "        y = self.layer_hidden1( y )\n",
    "        y = self.layer_hidden2( y )\n",
    "        y = self.layer_logit( y )\n",
    "\n",
    "        return y\n"
   ]
  },
  {
   "cell_type": "code",
   "execution_count": null,
   "metadata": {},
   "outputs": [],
   "source": [
    "\n",
    "env = gym.make( \"CartPole-v1\" )\n",
    "model = MachineLearningModel( env )\n",
    "model.compile(\n",
    "    optimizer=tf.keras.optimizers.Adam( learning_rate=1e-5 ),\n",
    "    loss=tf.keras.losses.CategoricalCrossentropy( )\n",
    ")\n"
   ]
  },
  {
   "cell_type": "code",
   "execution_count": 81,
   "metadata": {
    "tags": []
   },
   "outputs": [
    {
     "output_type": "stream",
     "name": "stdout",
     "text": "\n** *************************\n** SAMPLING,...\n** added sample, q 8.0, q_avg, 8.0\n** added sample, q 10.0, q_avg, 9.0\n** added sample, q 10.0, q_avg, 9.333333333333334\n** added sample, q 10.0, q_avg, 9.5\n** added sample, q 10.0, q_avg, 9.4048\n** added sample, q 11.0, q_avg, 9.614444444444445\n** added sample, q 11.0, q_avg, 9.545417024318704\n** added sample, q 11.0, q_avg, 9.494873173239267\n** added sample, q 11.0, q_avg, 9.27003899218355\n** added sample, q 11.0, q_avg, 9.631068792045017\n** added sample, q 11.0, q_avg, 9.543184369242868\n** added sample, q 11.0, q_avg, 9.699481310266576\n** added sample, q 11.0, q_avg, 9.61907673567525\n** added sample, q 11.0, q_avg, 9.469023638561936\n** added sample, q 11.0, q_avg, 9.282231214117088\n** added sample, q 11.0, q_avg, 9.27123783487062\n** added sample, q 11.0, q_avg, 9.451837881877779\n** added sample, q 11.0, q_avg, 9.321174575073623\n** added sample, q 11.0, q_avg, 9.468695520906232\n** added sample, q 11.0, q_avg, 9.329661217204315\n** added sample, q 11.0, q_avg, 9.411983632747749\n** added sample, q 11.0, q_avg, 9.482090259544371\n** added sample, q 11.0, q_avg, 9.341471914974637\n** added sample, q 11.0, q_avg, 9.411283040842065\n** added sample, q 11.0, q_avg, 9.468523774292985\n** added sample, q 11.0, q_avg, 9.49318721748672\n** added sample, q 11.0, q_avg, 9.448967639279669\n** added sample, q 11.0, q_avg, 9.526074440315275\n** added sample, q 11.0, q_avg, 9.603660407181945\n** added sample, q 11.0, q_avg, 9.395419263617091\n** added sample, q 11.0, q_avg, 9.355549529344264\n** added sample, q 11.0, q_avg, 9.333378342314527\n"
    }
   ],
   "source": [
    "\n",
    "render = True\n",
    "best_q = 0\n",
    "\n",
    "print()\n",
    "print( '** *************************' )\n",
    "print( '** SAMPLING,...' )\n",
    "\n",
    "batches_x = []\n",
    "batches_q = []\n",
    "\n",
    "samples = 32\n",
    "q_avg = 0\n",
    "observation = env.reset()\n",
    "\n",
    "while len( batches_x ) < samples:\n",
    "    total_q = 0\n",
    "    done = False\n",
    "    batch_x = []\n",
    "    batch_q = []\n",
    "\n",
    "    action = None\n",
    "    while not done:\n",
    "        action = tf.convert_to_tensor( [ (random.random() % 2) ])\n",
    "        q = model.predict( action )\n",
    "        action = tf.argmax( action ).numpy()\n",
    "\n",
    "        observation, reward, done, info = env.step( action )\n",
    "\n",
    "        total_q = total_q + reward\n",
    "        batch_x.append( action )\n",
    "        batch_q.append( reward )\n",
    "\n",
    "        if render:\n",
    "            env.render()\n",
    "            time.sleep( 0.1 )\n",
    "\n",
    "    q_avg = ( q_avg * len( batches_x )  + total_q ) / ( len(batches_x ) + 1 )\n",
    "    if total_q >= best_q:\n",
    "        \n",
    "        best_q = total_q\n",
    "\n",
    "        batches_x.append( batch_x )\n",
    "        batches_q.append( batch_q )\n",
    "        print( f'** added sample, q {total_q}, q_avg, {q_avg}' )\n",
    "\n",
    "    observation = env.reset()\n",
    "\n",
    "\n",
    "env.close()\n",
    "\n",
    "\n"
   ]
  },
  {
   "cell_type": "code",
   "execution_count": 82,
   "metadata": {
    "tags": []
   },
   "outputs": [
    {
     "output_type": "error",
     "ename": "ValueError",
     "evalue": "Failed to find data adapter that can handle input: (<class 'list'> containing values of types {'(<class \\'list\\'> containing values of types {\"<class \\'numpy.int64\\'>\"})'}), (<class 'list'> containing values of types {'(<class \\'list\\'> containing values of types {\"<class \\'float\\'>\"})'})",
     "traceback": [
      "\u001b[0;31m---------------------------------------------------------------------------\u001b[0m",
      "\u001b[0;31mValueError\u001b[0m                                Traceback (most recent call last)",
      "\u001b[0;32m<ipython-input-82-b2ede0ba647e>\u001b[0m in \u001b[0;36m<module>\u001b[0;34m\u001b[0m\n\u001b[1;32m      5\u001b[0m     \u001b[0mbatch_size\u001b[0m \u001b[0;34m=\u001b[0m \u001b[0;36m32\u001b[0m\u001b[0;34m,\u001b[0m\u001b[0;34m\u001b[0m\u001b[0;34m\u001b[0m\u001b[0m\n\u001b[1;32m      6\u001b[0m     \u001b[0muse_multiprocessing\u001b[0m \u001b[0;34m=\u001b[0m \u001b[0;32mTrue\u001b[0m\u001b[0;34m,\u001b[0m\u001b[0;34m\u001b[0m\u001b[0;34m\u001b[0m\u001b[0m\n\u001b[0;32m----> 7\u001b[0;31m     \u001b[0mverbose\u001b[0m \u001b[0;34m=\u001b[0m \u001b[0;36m0\u001b[0m\u001b[0;34m\u001b[0m\u001b[0;34m\u001b[0m\u001b[0m\n\u001b[0m\u001b[1;32m      8\u001b[0m )\n",
      "\u001b[0;32m~/opt/miniconda3/envs/tf2/lib/python3.7/site-packages/tensorflow/python/keras/engine/training.py\u001b[0m in \u001b[0;36m_method_wrapper\u001b[0;34m(self, *args, **kwargs)\u001b[0m\n\u001b[1;32m     64\u001b[0m   \u001b[0;32mdef\u001b[0m \u001b[0m_method_wrapper\u001b[0m\u001b[0;34m(\u001b[0m\u001b[0mself\u001b[0m\u001b[0;34m,\u001b[0m \u001b[0;34m*\u001b[0m\u001b[0margs\u001b[0m\u001b[0;34m,\u001b[0m \u001b[0;34m**\u001b[0m\u001b[0mkwargs\u001b[0m\u001b[0;34m)\u001b[0m\u001b[0;34m:\u001b[0m\u001b[0;34m\u001b[0m\u001b[0;34m\u001b[0m\u001b[0m\n\u001b[1;32m     65\u001b[0m     \u001b[0;32mif\u001b[0m \u001b[0;32mnot\u001b[0m \u001b[0mself\u001b[0m\u001b[0;34m.\u001b[0m\u001b[0m_in_multi_worker_mode\u001b[0m\u001b[0;34m(\u001b[0m\u001b[0;34m)\u001b[0m\u001b[0;34m:\u001b[0m  \u001b[0;31m# pylint: disable=protected-access\u001b[0m\u001b[0;34m\u001b[0m\u001b[0;34m\u001b[0m\u001b[0m\n\u001b[0;32m---> 66\u001b[0;31m       \u001b[0;32mreturn\u001b[0m \u001b[0mmethod\u001b[0m\u001b[0;34m(\u001b[0m\u001b[0mself\u001b[0m\u001b[0;34m,\u001b[0m \u001b[0;34m*\u001b[0m\u001b[0margs\u001b[0m\u001b[0;34m,\u001b[0m \u001b[0;34m**\u001b[0m\u001b[0mkwargs\u001b[0m\u001b[0;34m)\u001b[0m\u001b[0;34m\u001b[0m\u001b[0;34m\u001b[0m\u001b[0m\n\u001b[0m\u001b[1;32m     67\u001b[0m \u001b[0;34m\u001b[0m\u001b[0m\n\u001b[1;32m     68\u001b[0m     \u001b[0;31m# Running inside `run_distribute_coordinator` already.\u001b[0m\u001b[0;34m\u001b[0m\u001b[0;34m\u001b[0m\u001b[0;34m\u001b[0m\u001b[0m\n",
      "\u001b[0;32m~/opt/miniconda3/envs/tf2/lib/python3.7/site-packages/tensorflow/python/keras/engine/training.py\u001b[0m in \u001b[0;36mfit\u001b[0;34m(self, x, y, batch_size, epochs, verbose, callbacks, validation_split, validation_data, shuffle, class_weight, sample_weight, initial_epoch, steps_per_epoch, validation_steps, validation_batch_size, validation_freq, max_queue_size, workers, use_multiprocessing)\u001b[0m\n\u001b[1;32m    813\u001b[0m           \u001b[0mworkers\u001b[0m\u001b[0;34m=\u001b[0m\u001b[0mworkers\u001b[0m\u001b[0;34m,\u001b[0m\u001b[0;34m\u001b[0m\u001b[0;34m\u001b[0m\u001b[0m\n\u001b[1;32m    814\u001b[0m           \u001b[0muse_multiprocessing\u001b[0m\u001b[0;34m=\u001b[0m\u001b[0muse_multiprocessing\u001b[0m\u001b[0;34m,\u001b[0m\u001b[0;34m\u001b[0m\u001b[0;34m\u001b[0m\u001b[0m\n\u001b[0;32m--> 815\u001b[0;31m           model=self)\n\u001b[0m\u001b[1;32m    816\u001b[0m \u001b[0;34m\u001b[0m\u001b[0m\n\u001b[1;32m    817\u001b[0m       \u001b[0;31m# Container that configures and calls `tf.keras.Callback`s.\u001b[0m\u001b[0;34m\u001b[0m\u001b[0;34m\u001b[0m\u001b[0;34m\u001b[0m\u001b[0m\n",
      "\u001b[0;32m~/opt/miniconda3/envs/tf2/lib/python3.7/site-packages/tensorflow/python/keras/engine/data_adapter.py\u001b[0m in \u001b[0;36m__init__\u001b[0;34m(self, x, y, sample_weight, batch_size, steps_per_epoch, initial_epoch, epochs, shuffle, class_weight, max_queue_size, workers, use_multiprocessing, model)\u001b[0m\n\u001b[1;32m   1097\u001b[0m     \u001b[0mself\u001b[0m\u001b[0;34m.\u001b[0m\u001b[0m_insufficient_data\u001b[0m \u001b[0;34m=\u001b[0m \u001b[0;32mFalse\u001b[0m\u001b[0;34m\u001b[0m\u001b[0;34m\u001b[0m\u001b[0m\n\u001b[1;32m   1098\u001b[0m \u001b[0;34m\u001b[0m\u001b[0m\n\u001b[0;32m-> 1099\u001b[0;31m     \u001b[0madapter_cls\u001b[0m \u001b[0;34m=\u001b[0m \u001b[0mselect_data_adapter\u001b[0m\u001b[0;34m(\u001b[0m\u001b[0mx\u001b[0m\u001b[0;34m,\u001b[0m \u001b[0my\u001b[0m\u001b[0;34m)\u001b[0m\u001b[0;34m\u001b[0m\u001b[0;34m\u001b[0m\u001b[0m\n\u001b[0m\u001b[1;32m   1100\u001b[0m     self._adapter = adapter_cls(\n\u001b[1;32m   1101\u001b[0m         \u001b[0mx\u001b[0m\u001b[0;34m,\u001b[0m\u001b[0;34m\u001b[0m\u001b[0;34m\u001b[0m\u001b[0m\n",
      "\u001b[0;32m~/opt/miniconda3/envs/tf2/lib/python3.7/site-packages/tensorflow/python/keras/engine/data_adapter.py\u001b[0m in \u001b[0;36mselect_data_adapter\u001b[0;34m(x, y)\u001b[0m\n\u001b[1;32m    961\u001b[0m         \u001b[0;34m\"Failed to find data adapter that can handle \"\u001b[0m\u001b[0;34m\u001b[0m\u001b[0;34m\u001b[0m\u001b[0m\n\u001b[1;32m    962\u001b[0m         \"input: {}, {}\".format(\n\u001b[0;32m--> 963\u001b[0;31m             _type_name(x), _type_name(y)))\n\u001b[0m\u001b[1;32m    964\u001b[0m   \u001b[0;32melif\u001b[0m \u001b[0mlen\u001b[0m\u001b[0;34m(\u001b[0m\u001b[0madapter_cls\u001b[0m\u001b[0;34m)\u001b[0m \u001b[0;34m>\u001b[0m \u001b[0;36m1\u001b[0m\u001b[0;34m:\u001b[0m\u001b[0;34m\u001b[0m\u001b[0;34m\u001b[0m\u001b[0m\n\u001b[1;32m    965\u001b[0m     raise RuntimeError(\n",
      "\u001b[0;31mValueError\u001b[0m: Failed to find data adapter that can handle input: (<class 'list'> containing values of types {'(<class \\'list\\'> containing values of types {\"<class \\'numpy.int64\\'>\"})'}), (<class 'list'> containing values of types {'(<class \\'list\\'> containing values of types {\"<class \\'float\\'>\"})'})"
     ]
    }
   ],
   "source": [
    "model.fit( \n",
    "    x= batches_x,\n",
    "    y= batches_q,\n",
    "    epochs = 128,\n",
    "    batch_size = 32,\n",
    "    use_multiprocessing = True,\n",
    "    verbose = 0\n",
    ")\n"
   ]
  },
  {
   "cell_type": "code",
   "execution_count": null,
   "metadata": {
    "tags": []
   },
   "outputs": [],
   "source": [
    "print( batches_q )\n",
    "\n",
    "tf.convert_to_tensor"
   ]
  }
 ],
 "metadata": {
  "language_info": {
   "codemirror_mode": {
    "name": "ipython",
    "version": 3
   },
   "file_extension": ".py",
   "mimetype": "text/x-python",
   "name": "python",
   "nbconvert_exporter": "python",
   "pygments_lexer": "ipython3",
   "version": "3.7.6-final"
  },
  "orig_nbformat": 2,
  "kernelspec": {
   "name": "python_defaultSpec_1594216915671",
   "display_name": "Python 3.7.7 64-bit ('tf2': conda)"
  }
 },
 "nbformat": 4,
 "nbformat_minor": 2
}