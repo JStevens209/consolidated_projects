{
 "cells": [
  {
   "cell_type": "code",
   "execution_count": 10,
   "metadata": {
    "tags": []
   },
   "outputs": [
    {
     "output_type": "stream",
     "name": "stdout",
     "text": "<TDAmeritrade Client (logged_in = True, authorized = True)>\n2020-06-24 10:25:26.800312\n"
    }
   ],
   "source": [
    "from td.client import TDClient\n",
    "from td_context import *\n",
    "import pprint as pp\n",
    "import datetime\n",
    "\n",
    "# Create a new session using variables imported from context\n",
    "TDSession = TDClient(\n",
    "    client_id = CLIENT_ID,\n",
    "    redirect_uri = REDIRECT_URI,\n",
    "    credentials_path= CREDENTIALS_PATH,\n",
    "    account_number= ACCOUNT_NUMBER\n",
    ")\n",
    "\n",
    "\n",
    "#Login to the session\n",
    "TDSession.login()\n",
    "\n",
    "print(TDSession)\n",
    "\n",
    "print(datetime.datetime.now() )"
   ]
  },
  {
   "cell_type": "code",
   "execution_count": 8,
   "metadata": {
    "tags": []
   },
   "outputs": [
    {
     "output_type": "stream",
     "name": "stdout",
     "text": "2020-06-24 10:22:25.947584\n"
    }
   ],
   "source": [
    "print(datetime.datetime.now() )\n"
   ]
  },
  {
   "cell_type": "code",
   "execution_count": 11,
   "metadata": {
    "tags": []
   },
   "outputs": [
    {
     "output_type": "stream",
     "name": "stdout",
     "text": "<TDAmeritrade Client (logged_in = True, authorized = True)>\n"
    }
   ],
   "source": [
    "TDSession.grab_refresh_token()\n",
    "\n",
    "print(TDSession)\n"
   ]
  },
  {
   "cell_type": "code",
   "execution_count": null,
   "metadata": {},
   "outputs": [],
   "source": []
  }
 ],
 "metadata": {
  "language_info": {
   "codemirror_mode": {
    "name": "ipython",
    "version": 3
   },
   "file_extension": ".py",
   "mimetype": "text/x-python",
   "name": "python",
   "nbconvert_exporter": "python",
   "pygments_lexer": "ipython3",
   "version": "3.7.7-final"
  },
  "orig_nbformat": 2,
  "kernelspec": {
   "name": "python37764bittf2condae97f490cfcf445bdbe72b84c7078d840",
   "display_name": "Python 3.7.7 64-bit ('tf2': conda)"
  }
 },
 "nbformat": 4,
 "nbformat_minor": 2
}