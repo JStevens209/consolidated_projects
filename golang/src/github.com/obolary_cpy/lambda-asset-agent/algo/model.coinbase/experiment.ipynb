{
 "cells": [
  {
   "cell_type": "code",
   "execution_count": 1,
   "metadata": {},
   "outputs": [],
   "source": [
    "%matplotlib notebook\n",
    "\n",
    "import os\n",
    "import collections\n",
    "import warnings\n",
    "\n",
    "warnings.filterwarnings(\"ignore\")\n",
    "os.environ['TF_CPP_MIN_LOG_LEVEL'] = '3'\n",
    "\n",
    "import matplotlib as mpl\n",
    "import matplotlib.dates as mdates\n",
    "from matplotlib import pylab as plt\n",
    "\n",
    "import seaborn as sns\n",
    "\n",
    "import numpy as np\n",
    "import pandas as pd\n",
    "import tensorflow.compat.v2 as tf\n",
    "import tensorflow_probability as tfp\n",
    "\n",
    "from tensorflow_probability import distributions as tfd\n",
    "from tensorflow_probability import sts\n",
    "\n",
    "tf.enable_v2_behavior()\n",
    "\n",
    "from pandas.plotting import register_matplotlib_converters\n",
    "register_matplotlib_converters()\n",
    "\n",
    "sns.set_context(\"notebook\", font_scale=1.)\n",
    "sns.set_style(\"whitegrid\")\n",
    "%config InlineBackend.figure_format = 'retina'\n"
   ]
  },
  {
   "cell_type": "code",
   "execution_count": 2,
   "metadata": {},
   "outputs": [],
   "source": [
    "import cbpro\n",
    "\n",
    "weburl = 'https://public.sandbox.pro.coinbase.com'\n",
    "resturl = 'https://api-public.sandbox.pro.coinbase.com'\n",
    "socketurl = 'wss://ws-feed-public.sandbox.pro.coinbase.com'\n",
    "fixurl = 'tcp+ssl://fix-public.sandbox.pro.coinbase.com:4198'\n",
    "\n",
    "passphrase = 'je5zm0rm4i'\n",
    "key = '5fc3717334a8718cd60f3ee74b819cec'\n",
    "b64secret = '/fnWX+p82wuYbdjKZ3rlIceuUB1hxut2/6/EVchzuBntYHnZ4PxpcG2epTuvUnV8IAlzGu584mWBPch7wo6Ohw=='\n",
    "\n",
    "client = cbpro.AuthenticatedClient( key, b64secret, passphrase, api_url=resturl )\n"
   ]
  },
  {
   "cell_type": "code",
   "execution_count": 3,
   "metadata": {},
   "outputs": [
    {
     "data": {
      "text/plain": [
       "[{'id': '44078656-cfca-4355-9ddd-d7f7c927ca9e',\n",
       "  'currency': 'BTC',\n",
       "  'balance': '0.2754375000000000',\n",
       "  'available': '0',\n",
       "  'hold': '0.2754375000000000',\n",
       "  'profile_id': 'ba877dcd-bb9f-475d-ba02-fc4a435e2cb4',\n",
       "  'trading_enabled': True},\n",
       " {'id': 'dcf488b7-6e9e-4683-8d71-5e13fc151a2b',\n",
       "  'currency': 'USDC',\n",
       "  'balance': '0.0000000000000000',\n",
       "  'available': '0',\n",
       "  'hold': '0.0000000000000000',\n",
       "  'profile_id': 'ba877dcd-bb9f-475d-ba02-fc4a435e2cb4',\n",
       "  'trading_enabled': True},\n",
       " {'id': '3c4528aa-7065-42c8-999b-37f322af98f5',\n",
       "  'currency': 'USD',\n",
       "  'balance': '7977.4288199585295000',\n",
       "  'available': '7977.4288199585295',\n",
       "  'hold': '0.0000000000000000',\n",
       "  'profile_id': 'ba877dcd-bb9f-475d-ba02-fc4a435e2cb4',\n",
       "  'trading_enabled': True},\n",
       " {'id': 'e79a4155-bf5a-4b26-8f55-f6e5e7012660',\n",
       "  'currency': 'LINK',\n",
       "  'balance': '0.0000000000000000',\n",
       "  'available': '0',\n",
       "  'hold': '0.0000000000000000',\n",
       "  'profile_id': 'ba877dcd-bb9f-475d-ba02-fc4a435e2cb4',\n",
       "  'trading_enabled': True},\n",
       " {'id': 'e8b56bd5-0029-4e31-900f-b3c05b276247',\n",
       "  'currency': 'GBP',\n",
       "  'balance': '0.0000000000000000',\n",
       "  'available': '0',\n",
       "  'hold': '0.0000000000000000',\n",
       "  'profile_id': 'ba877dcd-bb9f-475d-ba02-fc4a435e2cb4',\n",
       "  'trading_enabled': True},\n",
       " {'id': 'fd6d7ef6-127a-4624-a326-6cac9bdb0682',\n",
       "  'currency': 'EUR',\n",
       "  'balance': '0.0000000000000000',\n",
       "  'available': '0',\n",
       "  'hold': '0.0000000000000000',\n",
       "  'profile_id': 'ba877dcd-bb9f-475d-ba02-fc4a435e2cb4',\n",
       "  'trading_enabled': True},\n",
       " {'id': '43a4c8e2-19ec-463f-b6b2-ec8c777deea1',\n",
       "  'currency': 'ETH',\n",
       "  'balance': '0.0000000000000000',\n",
       "  'available': '0',\n",
       "  'hold': '0.0000000000000000',\n",
       "  'profile_id': 'ba877dcd-bb9f-475d-ba02-fc4a435e2cb4',\n",
       "  'trading_enabled': True},\n",
       " {'id': 'e44b2e43-7096-43c9-a6ae-b92e9b502723',\n",
       "  'currency': 'BAT',\n",
       "  'balance': '0.0000000000000000',\n",
       "  'available': '0',\n",
       "  'hold': '0.0000000000000000',\n",
       "  'profile_id': 'ba877dcd-bb9f-475d-ba02-fc4a435e2cb4',\n",
       "  'trading_enabled': True}]"
      ]
     },
     "execution_count": 3,
     "metadata": {},
     "output_type": "execute_result"
    }
   ],
   "source": [
    "client.get_accounts()"
   ]
  },
  {
   "cell_type": "code",
   "execution_count": 4,
   "metadata": {},
   "outputs": [
    {
     "data": {
      "text/plain": [
       "{'id': '44078656-cfca-4355-9ddd-d7f7c927ca9e',\n",
       " 'currency': 'BTC',\n",
       " 'balance': '0.2754375000000000',\n",
       " 'available': '0',\n",
       " 'hold': '0.2754375000000000',\n",
       " 'profile_id': 'ba877dcd-bb9f-475d-ba02-fc4a435e2cb4',\n",
       " 'trading_enabled': True}"
      ]
     },
     "execution_count": 4,
     "metadata": {},
     "output_type": "execute_result"
    }
   ],
   "source": [
    "client.get_account('44078656-cfca-4355-9ddd-d7f7c927ca9e')"
   ]
  },
  {
   "cell_type": "code",
   "execution_count": 31,
   "metadata": {},
   "outputs": [],
   "source": [
    "import time\n",
    "\n",
    "class myWebsocketClient(cbpro.WebsocketClient):\n",
    "\n",
    "    def __init__( self ):\n",
    "        \n",
    "        self.message_count = 0\n",
    "        self.url = socketurl\n",
    "        self.auth = True\n",
    "        self.api_key = key\n",
    "        self.api_passphrase = passphrase\n",
    "        self.api_secret = b64secret\n",
    "        self.products = [ 'BTC-USD' ]\n",
    "        \n",
    "        super().__init__( channels = [ 'ticker', 'status' ] )\n",
    "        \n",
    "    def on_open(self):\n",
    "        \n",
    "        print(\"Lets count the messages!\")\n",
    "    \n",
    "    def on_message(self, msg):\n",
    "        \n",
    "        self.message_count += 1\n",
    "        if 'type' in msg:\n",
    "            if 'price' in msg:\n",
    "                print( \"Message type:\", msg[\"type\"], \"\\t@ {:.3f}\".format(float(msg[\"price\"])) )\n",
    "            elif msg[ 'type' ] == 'error':\n",
    "                print( \"Error:\", msg['message'], \"-\", msg['reason'] )\n",
    "        else:\n",
    "            print( \"Message type:\", msg )\n",
    "            \n",
    "    def on_close(self):\n",
    "        \n",
    "        self.message_count = 500\n",
    "        print(\"-- Goodbye! --\")\n",
    "        "
   ]
  },
  {
   "cell_type": "code",
   "execution_count": 32,
   "metadata": {},
   "outputs": [
    {
     "name": "stdout",
     "output_type": "stream",
     "text": [
      "Lets count the messages!\n",
      "wss://ws-feed.pro.coinbase.com ['BTC-USD']\n",
      "Message type: ticker \t@ 7160.230\n",
      "Message type: ticker \t@ 7158.010\n",
      "Message type: ticker \t@ 7158.010\n",
      "Message type: ticker \t@ 7158.000\n",
      "Message type: ticker \t@ 7158.010\n",
      "Message type: ticker \t@ 7158.010\n",
      "Message type: ticker \t@ 7158.000\n",
      "Message type: ticker \t@ 7158.010\n",
      "Message type: ticker \t@ 7158.010\n",
      "Message type: ticker \t@ 7158.010\n",
      "Message type: ticker \t@ 7158.010\n",
      "Message type: ticker \t@ 7158.010\n",
      "Message type: ticker \t@ 7158.010\n",
      "Message type: ticker \t@ 7158.000\n",
      "Message type: ticker \t@ 7156.610\n",
      "Message type: ticker \t@ 7154.360\n",
      "Message type: ticker \t@ 7154.360\n",
      "Message type: ticker \t@ 7154.370\n",
      "Message type: ticker \t@ 7154.360\n",
      "Message type: ticker \t@ 7152.560\n",
      "Message type: ticker \t@ 7152.250\n",
      "Message type: ticker \t@ 7151.000\n",
      "Message type: ticker \t@ 7149.980\n",
      "Message type: ticker \t@ 7149.970\n",
      "Message type: ticker \t@ 7150.140\n"
     ]
    }
   ],
   "source": [
    "wsClient = myWebsocketClient()\n",
    "wsClient.start()\n",
    "print(wsClient.url, wsClient.products)\n",
    "while( wsClient.message_count < 10 ):\n",
    "    time.sleep(1)\n"
   ]
  },
  {
   "cell_type": "code",
   "execution_count": 36,
   "metadata": {},
   "outputs": [
    {
     "name": "stdout",
     "output_type": "stream",
     "text": [
      "-- Goodbye! --\n"
     ]
    }
   ],
   "source": [
    "wsClient.close()\n"
   ]
  },
  {
   "cell_type": "code",
   "execution_count": 6,
   "metadata": {},
   "outputs": [
    {
     "data": {
      "text/plain": [
       "['message']"
      ]
     },
     "execution_count": 6,
     "metadata": {},
     "output_type": "execute_result"
    }
   ],
   "source": [
    "f = client.get_fills('44078656-cfca-4355-9ddd-d7f7c927ca9e')\n",
    "list(f)\n"
   ]
  },
  {
   "cell_type": "code",
   "execution_count": 7,
   "metadata": {},
   "outputs": [
    {
     "data": {
      "text/plain": [
       "[{'id': 'BAT',\n",
       "  'name': 'Basic Attention Token',\n",
       "  'min_size': '1',\n",
       "  'status': 'online',\n",
       "  'message': None,\n",
       "  'details': {'type': 'crypto',\n",
       "   'symbol': '',\n",
       "   'network_confirmations': 35,\n",
       "   'sort_order': 10,\n",
       "   'crypto_address_link': 'https://etherscan.io/token/0x0d8775f648430679a709e98d2b0cb6250d2887ef?a={{address}}',\n",
       "   'crypto_transaction_link': 'https://etherscan.io/tx/0x{{txId}}',\n",
       "   'push_payment_methods': ['crypto']},\n",
       "  'max_precision': '1'},\n",
       " {'id': 'LINK',\n",
       "  'name': 'Chainlink',\n",
       "  'min_size': '1',\n",
       "  'status': 'online',\n",
       "  'message': None,\n",
       "  'details': {'type': 'crypto',\n",
       "   'symbol': 'Ξ',\n",
       "   'network_confirmations': 35,\n",
       "   'sort_order': 67,\n",
       "   'crypto_address_link': 'https://etherscan.io/token/0x514910771af9ca656af840dff83e8264ecf986ca?a={{address}}',\n",
       "   'crypto_transaction_link': 'https://etherscan.io/tx/0x{{txId}}',\n",
       "   'push_payment_methods': ['crypto']},\n",
       "  'max_precision': '0.00000001'},\n",
       " {'id': 'USD',\n",
       "  'name': 'United States Dollar',\n",
       "  'min_size': '0.01',\n",
       "  'status': 'online',\n",
       "  'message': None,\n",
       "  'details': {'type': 'fiat',\n",
       "   'symbol': '$',\n",
       "   'sort_order': 0,\n",
       "   'push_payment_methods': ['bank_wire',\n",
       "    'swift_bank_account',\n",
       "    'intra_bank_account'],\n",
       "   'display_name': 'US Dollar',\n",
       "   'group_types': ['fiat', 'usd']},\n",
       "  'max_precision': '0.01',\n",
       "  'convertible_to': ['USDC']},\n",
       " {'id': 'BTC',\n",
       "  'name': 'Bitcoin',\n",
       "  'min_size': '0.00000001',\n",
       "  'status': 'online',\n",
       "  'message': None,\n",
       "  'details': {'type': 'crypto',\n",
       "   'symbol': '',\n",
       "   'network_confirmations': 6,\n",
       "   'sort_order': 3,\n",
       "   'crypto_address_link': 'https://live.blockcypher.com/btc/address/{{address}}',\n",
       "   'crypto_transaction_link': 'https://live.blockcypher.com/btc/tx/{{txId}}',\n",
       "   'push_payment_methods': ['crypto'],\n",
       "   'group_types': ['btc', 'crypto']},\n",
       "  'max_precision': '0.00000001'},\n",
       " {'id': 'GBP',\n",
       "  'name': 'British Pound',\n",
       "  'min_size': '0.01',\n",
       "  'status': 'online',\n",
       "  'message': None,\n",
       "  'details': {'type': 'fiat',\n",
       "   'symbol': '£',\n",
       "   'sort_order': 2,\n",
       "   'push_payment_methods': ['uk_bank_account', 'swift_lhv'],\n",
       "   'group_types': ['fiat', 'gbp']},\n",
       "  'max_precision': '0.01'},\n",
       " {'id': 'EUR',\n",
       "  'name': 'Euro',\n",
       "  'min_size': '0.01',\n",
       "  'status': 'online',\n",
       "  'message': None,\n",
       "  'details': {'type': 'fiat',\n",
       "   'symbol': '€',\n",
       "   'sort_order': 1,\n",
       "   'push_payment_methods': ['sepa_bank_account'],\n",
       "   'group_types': ['fiat', 'eur']},\n",
       "  'max_precision': '0.01'},\n",
       " {'id': 'ETH',\n",
       "  'name': 'Ether',\n",
       "  'min_size': '0.00000001',\n",
       "  'status': 'online',\n",
       "  'message': None,\n",
       "  'details': {'type': 'crypto',\n",
       "   'symbol': '',\n",
       "   'network_confirmations': 35,\n",
       "   'sort_order': 7,\n",
       "   'crypto_address_link': 'https://etherscan.io/address/{{address}}',\n",
       "   'crypto_transaction_link': 'https://etherscan.io/tx/0x{{txId}}',\n",
       "   'push_payment_methods': ['crypto'],\n",
       "   'group_types': ['eth', 'crypto']},\n",
       "  'max_precision': '0.00000001'},\n",
       " {'id': 'USDC',\n",
       "  'name': 'USD Coin',\n",
       "  'min_size': '0.000001',\n",
       "  'status': 'online',\n",
       "  'message': None,\n",
       "  'details': {'type': 'crypto',\n",
       "   'symbol': '$',\n",
       "   'network_confirmations': 35,\n",
       "   'sort_order': 9,\n",
       "   'crypto_address_link': 'https://etherscan.io/token/0xa0b86991c6218b36c1d19d4a2e9eb0ce3606eb48?a={{address}}',\n",
       "   'crypto_transaction_link': 'https://etherscan.io/tx/0x{{txId}}',\n",
       "   'push_payment_methods': ['crypto'],\n",
       "   'group_types': ['stablecoin', 'usdc', 'crypto']},\n",
       "  'max_precision': '0.000001',\n",
       "  'convertible_to': ['USD']}]"
      ]
     },
     "execution_count": 7,
     "metadata": {},
     "output_type": "execute_result"
    }
   ],
   "source": [
    "client.get_currencies()\n"
   ]
  },
  {
   "cell_type": "code",
   "execution_count": 8,
   "metadata": {},
   "outputs": [
    {
     "data": {
      "text/plain": [
       "[{'id': 'BTC-GBP',\n",
       "  'base_currency': 'BTC',\n",
       "  'quote_currency': 'GBP',\n",
       "  'base_min_size': '0.00100000',\n",
       "  'base_max_size': '10000.00000000',\n",
       "  'quote_increment': '0.01000000',\n",
       "  'base_increment': '0.00000001',\n",
       "  'display_name': 'BTC/GBP',\n",
       "  'min_market_funds': '10',\n",
       "  'max_market_funds': '200000',\n",
       "  'margin_enabled': False,\n",
       "  'post_only': False,\n",
       "  'limit_only': False,\n",
       "  'cancel_only': False,\n",
       "  'status': 'online',\n",
       "  'status_message': ''},\n",
       " {'id': 'BTC-EUR',\n",
       "  'base_currency': 'BTC',\n",
       "  'quote_currency': 'EUR',\n",
       "  'base_min_size': '0.00100000',\n",
       "  'base_max_size': '10000.00000000',\n",
       "  'quote_increment': '0.01000000',\n",
       "  'base_increment': '0.00000001',\n",
       "  'display_name': 'BTC/EUR',\n",
       "  'min_market_funds': '10',\n",
       "  'max_market_funds': '600000',\n",
       "  'margin_enabled': False,\n",
       "  'post_only': False,\n",
       "  'limit_only': False,\n",
       "  'cancel_only': False,\n",
       "  'status': 'online',\n",
       "  'status_message': ''},\n",
       " {'id': 'BAT-USDC',\n",
       "  'base_currency': 'BAT',\n",
       "  'quote_currency': 'USDC',\n",
       "  'base_min_size': '1.00000000',\n",
       "  'base_max_size': '300000.00000000',\n",
       "  'quote_increment': '0.00000100',\n",
       "  'base_increment': '1.00000000',\n",
       "  'display_name': 'BAT/USDC',\n",
       "  'min_market_funds': '1',\n",
       "  'max_market_funds': '100000',\n",
       "  'margin_enabled': False,\n",
       "  'post_only': False,\n",
       "  'limit_only': False,\n",
       "  'cancel_only': False,\n",
       "  'status': 'online',\n",
       "  'status_message': ''},\n",
       " {'id': 'BTC-USD',\n",
       "  'base_currency': 'BTC',\n",
       "  'quote_currency': 'USD',\n",
       "  'base_min_size': '0.00100000',\n",
       "  'base_max_size': '10000.00000000',\n",
       "  'quote_increment': '0.01000000',\n",
       "  'base_increment': '0.00000001',\n",
       "  'display_name': 'BTC/USD',\n",
       "  'min_market_funds': '10',\n",
       "  'max_market_funds': '1000000',\n",
       "  'margin_enabled': True,\n",
       "  'post_only': False,\n",
       "  'limit_only': False,\n",
       "  'cancel_only': False,\n",
       "  'status': 'online',\n",
       "  'status_message': ''},\n",
       " {'id': 'LINK-USDC',\n",
       "  'base_currency': 'LINK',\n",
       "  'quote_currency': 'USDC',\n",
       "  'base_min_size': '1.00000000',\n",
       "  'base_max_size': '800000.00000000',\n",
       "  'quote_increment': '0.00000100',\n",
       "  'base_increment': '1.00000000',\n",
       "  'display_name': 'LINK/USDC',\n",
       "  'min_market_funds': '10',\n",
       "  'max_market_funds': '100000',\n",
       "  'margin_enabled': False,\n",
       "  'post_only': False,\n",
       "  'limit_only': False,\n",
       "  'cancel_only': False,\n",
       "  'status': 'online',\n",
       "  'status_message': ''},\n",
       " {'id': 'ETH-BTC',\n",
       "  'base_currency': 'ETH',\n",
       "  'quote_currency': 'BTC',\n",
       "  'base_min_size': '0.01000000',\n",
       "  'base_max_size': '1000000.00000000',\n",
       "  'quote_increment': '0.00001000',\n",
       "  'base_increment': '0.00000001',\n",
       "  'display_name': 'ETH/BTC',\n",
       "  'min_market_funds': '0.001',\n",
       "  'max_market_funds': '80',\n",
       "  'margin_enabled': False,\n",
       "  'post_only': False,\n",
       "  'limit_only': False,\n",
       "  'cancel_only': False,\n",
       "  'status': 'online',\n",
       "  'status_message': ''}]"
      ]
     },
     "execution_count": 8,
     "metadata": {},
     "output_type": "execute_result"
    }
   ],
   "source": [
    "client.get_products()"
   ]
  },
  {
   "cell_type": "code",
   "execution_count": 9,
   "metadata": {},
   "outputs": [
    {
     "data": {
      "text/plain": [
       "{'open': '8175.05000000',\n",
       " 'high': '8214.40000000',\n",
       " 'low': '8032.57000000',\n",
       " 'volume': '57040.61524600',\n",
       " 'last': '8082.99000000',\n",
       " 'volume_30day': '2880081.83929891'}"
      ]
     },
     "execution_count": 9,
     "metadata": {},
     "output_type": "execute_result"
    }
   ],
   "source": [
    "client.get_product_24hr_stats('BTC-USD')"
   ]
  },
  {
   "cell_type": "code",
   "execution_count": 11,
   "metadata": {},
   "outputs": [],
   "source": [
    "btcusd=client.get_product_historic_rates('BTC-USD',granularity=60)"
   ]
  },
  {
   "cell_type": "code",
   "execution_count": 14,
   "metadata": {},
   "outputs": [
    {
     "data": {
      "text/plain": [
       "300"
      ]
     },
     "execution_count": 14,
     "metadata": {},
     "output_type": "execute_result"
    }
   ],
   "source": [
    "len(btcusd)"
   ]
  },
  {
   "cell_type": "code",
   "execution_count": 16,
   "metadata": {},
   "outputs": [
    {
     "data": {
      "text/plain": [
       "{'sequence': 88592238,\n",
       " 'bids': [['7242.99', '1.0914', 1],\n",
       "  ['7241.5', '0.1', 1],\n",
       "  ['7241.08', '3.442', 1],\n",
       "  ['7240.64', '3.45', 1],\n",
       "  ['7226.31', '0.0301', 1],\n",
       "  ['7220.86', '0.6123', 1],\n",
       "  ['7216.65', '10.0502', 1],\n",
       "  ['7200', '0.0435', 1],\n",
       "  ['7123.05', '0.00140389', 1],\n",
       "  ['7110.67', '997.61929805', 1],\n",
       "  ['7103.99', '0.45914232', 3],\n",
       "  ['7100', '1', 1],\n",
       "  ['7051.1', '0.00141821', 1],\n",
       "  ['7000', '10010', 2],\n",
       "  ['6996.91', '0.006', 1],\n",
       "  ['6989.7', '0.1', 1],\n",
       "  ['6979.15', '0.00143283', 1],\n",
       "  ['6938.98', '3.347', 2],\n",
       "  ['6742.49', '10000', 1],\n",
       "  ['6672.36', '1943.7772', 1],\n",
       "  ['6661.68', '87', 1],\n",
       "  ['6661.52', '8.8325', 1],\n",
       "  ['6660.51', '1124', 1],\n",
       "  ['6612', '9555', 1],\n",
       "  ['6474.75', '0.00154446', 1],\n",
       "  ['6099', '3000', 1],\n",
       "  ['6065.17', '0.5', 1],\n",
       "  ['5333.65', '0.0108', 2],\n",
       "  ['5267', '0.0756', 1],\n",
       "  ['5200', '4.5364', 1],\n",
       "  ['5193.32', '0.0112', 2],\n",
       "  ['5165', '2555', 1],\n",
       "  ['5100', '0.01', 1],\n",
       "  ['5052.99', '0.0116', 2],\n",
       "  ['5000', '1059.1159', 6],\n",
       "  ['4912.66', '0.012', 2],\n",
       "  ['4869.72', '0.2482', 1],\n",
       "  ['4858.72', '0.2485', 1],\n",
       "  ['4772.33', '0.0124', 2],\n",
       "  ['4674.42', '0.061', 1],\n",
       "  ['4632', '0.0128', 2],\n",
       "  ['4567', '10000', 1],\n",
       "  ['4491.67', '0.0132', 2],\n",
       "  ['4351.34', '0.0136', 2],\n",
       "  ['4300', '13.425', 1],\n",
       "  ['4231.44', '0.077', 7],\n",
       "  ['4211.01', '0.014', 2],\n",
       "  ['4070.68', '0.0144', 2],\n",
       "  ['3972', '0.05', 1],\n",
       "  ['3930.35', '0.0148', 2]],\n",
       " 'asks': [['7243', '3.4532', 1],\n",
       "  ['7250', '3.999', 1],\n",
       "  ['7250.11', '1.5189', 2],\n",
       "  ['7259.81', '1.8404', 2],\n",
       "  ['7297.19', '3.04564426', 2],\n",
       "  ['7300', '0.13771875', 1],\n",
       "  ['7303.47', '0.00138985', 1],\n",
       "  ['7369.44', '3.04564426', 2],\n",
       "  ['7400', '0.13771875', 1],\n",
       "  ['7436.91', '0.1', 1],\n",
       "  ['7441.69', '3.04564426', 2],\n",
       "  ['7445.99', '0.007', 1],\n",
       "  ['7470.32', '5.30992616', 1],\n",
       "  ['7542.15', '5.30992616', 1],\n",
       "  ['7575', '1000', 1],\n",
       "  ['7580.22', '10000', 1],\n",
       "  ['7622.51', '1.00581026', 2],\n",
       "  ['7973.14', '10000', 1],\n",
       "  ['8059.21', '0.33180727', 1],\n",
       "  ['8737.31', '3.75477806', 1],\n",
       "  ['8821.32', '3.75477806', 1],\n",
       "  ['9521.93', '10000', 1],\n",
       "  ['11007.78', '0.03548184', 3],\n",
       "  ['11030.75', '0.075', 5],\n",
       "  ['11053.73', '0.03', 2],\n",
       "  ['11076.7', '0.075', 5],\n",
       "  ['11087.18', '0.009', 2],\n",
       "  ['11099.67', '0.075', 5],\n",
       "  ['11122.64', '0.06', 4],\n",
       "  ['11145.62', '0.105', 7],\n",
       "  ['11168.59', '0.03', 2],\n",
       "  ['11191.56', '0.03', 2],\n",
       "  ['11214.53', '0.09', 6],\n",
       "  ['11227.51', '0.0094', 2],\n",
       "  ['11250', '10000', 1],\n",
       "  ['11331.08', '0.0178', 1],\n",
       "  ['11367.84', '0.0098', 2],\n",
       "  ['11508.17', '0.0102', 2],\n",
       "  ['11648.5', '0.0106', 2],\n",
       "  ['11788.83', '0.011', 2],\n",
       "  ['11929.16', '0.0114', 2],\n",
       "  ['11982.12', '0.021', 1],\n",
       "  ['12069.49', '0.0118', 2],\n",
       "  ['12074', '0.0167', 1],\n",
       "  ['12100', '5.0421', 1],\n",
       "  ['12200', '10000', 1],\n",
       "  ['12209.82', '0.0122', 2],\n",
       "  ['12350.15', '0.0126', 2],\n",
       "  ['12490.48', '0.013', 2],\n",
       "  ['12630.81', '0.0134', 2]]}"
      ]
     },
     "execution_count": 16,
     "metadata": {},
     "output_type": "execute_result"
    }
   ],
   "source": [
    "client.get_product_order_book('BTC-USD', level=2)"
   ]
  },
  {
   "cell_type": "code",
   "execution_count": null,
   "metadata": {},
   "outputs": [],
   "source": []
  }
 ],
 "metadata": {
  "kernelspec": {
   "display_name": "Python 3",
   "language": "python",
   "name": "python3"
  },
  "language_info": {
   "codemirror_mode": {
    "name": "ipython",
    "version": 3
   },
   "file_extension": ".py",
   "mimetype": "text/x-python",
   "name": "python",
   "nbconvert_exporter": "python",
   "pygments_lexer": "ipython3",
   "version": "3.7.5"
  }
 },
 "nbformat": 4,
 "nbformat_minor": 4
}
